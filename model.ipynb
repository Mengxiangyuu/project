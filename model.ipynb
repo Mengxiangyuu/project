{
 "cells": [
  {
   "cell_type": "code",
   "execution_count": null,
   "id": "5245a2db-e693-4c0f-be85-33a93122bebd",
   "metadata": {},
   "outputs": [],
   "source": [
    "import pandas as pd\n",
    "\n",
    "import matplotlib.pyplot as plt\n",
    "%matplotlib inline"
   ]
  },
  {
   "cell_type": "code",
   "execution_count": null,
   "id": "f9dffc83-8bdb-423b-a008-652fee59860a",
   "metadata": {},
   "outputs": [],
   "source": [
    "df_train = pd.read_csv('训练日志-训练集.csv')\n",
    "df_test = pd.read_csv('训练日志-测试集.csv')"
   ]
  },
  {
   "cell_type": "code",
   "execution_count": null,
   "id": "59e22bb9-9d92-4b33-9400-88466753327e",
   "metadata": {},
   "outputs": [],
   "source": [
    "df_train"
   ]
  },
  {
   "cell_type": "code",
   "execution_count": null,
   "id": "5086b244-6b85-43e7-8eff-76b371f6350d",
   "metadata": {},
   "outputs": [],
   "source": [
    "df_test"
   ]
  },
  {
   "cell_type": "code",
   "execution_count": null,
   "id": "d9c217a6-7104-430e-bfc3-42b0e7673b53",
   "metadata": {},
   "outputs": [],
   "source": [
    "plt.figure(figsize=(16, 8))\n",
    "\n",
    "x = df_train['batch']\n",
    "y = df_train['train_loss']\n",
    "\n",
    "plt.plot(x, y, label='训练集')\n",
    "\n",
    "plt.tick_params(labelsize=20)\n",
    "plt.xlabel('batch', fontsize=20)\n",
    "plt.ylabel('Loss_Function', fontsize=20)\n",
    "plt.title('Training set loss function', fontsize=25)\n",
    "plt.savefig('图表/训练集损失函数.pdf', dpi=120, bbox_inches='tight')\n",
    "\n",
    "plt.show()"
   ]
  },
  {
   "cell_type": "code",
   "execution_count": null,
   "id": "ab335c25-72a7-4770-b1e1-fcdb47b26990",
   "metadata": {},
   "outputs": [],
   "source": [
    "plt.figure(figsize=(16, 8))\n",
    "\n",
    "x = df_train['batch']\n",
    "y = df_train['train_accuracy']\n",
    "\n",
    "plt.plot(x, y, label='训练集')\n",
    "\n",
    "plt.tick_params(labelsize=20)\n",
    "plt.xlabel('batch', fontsize=20)\n",
    "plt.ylabel('Accuracy', fontsize=20)\n",
    "plt.title('Training set accuracy', fontsize=25)\n",
    "plt.savefig('图表/训练集准确率.pdf', dpi=120, bbox_inches='tight')\n",
    "\n",
    "plt.show()"
   ]
  },
  {
   "cell_type": "code",
   "execution_count": null,
   "id": "b2682fc0-272f-40d7-9bd7-289f79ac838d",
   "metadata": {},
   "outputs": [],
   "source": [
    "plt.figure(figsize=(16, 8))\n",
    "\n",
    "x = df_test['epoch']\n",
    "y = df_test['test_loss']\n",
    "\n",
    "plt.plot(x, y, label='测试集')\n",
    "\n",
    "plt.tick_params(labelsize=20)\n",
    "plt.xlabel('epoch', fontsize=20)\n",
    "plt.ylabel('Loss_Function', fontsize=20)\n",
    "plt.title('Test set loss function', fontsize=25)\n",
    "plt.savefig('图表/测试集损失函数.pdf', dpi=120, bbox_inches='tight')\n",
    "\n",
    "plt.show()"
   ]
  },
  {
   "cell_type": "code",
   "execution_count": null,
   "id": "3f468a09-d222-4a50-966a-7e592f5ed039",
   "metadata": {},
   "outputs": [],
   "source": [
    "from matplotlib import colors as mcolors\n",
    "import random\n",
    "random.seed(124)\n",
    "colors = ['b', 'g', 'r', 'c', 'm', 'y', 'k', 'tab:blue', 'tab:orange', 'tab:green', 'tab:red', 'tab:purple', 'tab:brown', 'tab:pink', 'tab:gray', 'tab:olive', 'tab:cyan', 'black', 'indianred', 'brown', 'firebrick', 'maroon', 'darkred', 'red', 'sienna', 'chocolate', 'yellow', 'olivedrab', 'yellowgreen', 'darkolivegreen', 'forestgreen', 'limegreen', 'darkgreen', 'green', 'lime', 'seagreen', 'mediumseagreen', 'darkslategray', 'darkslategrey', 'teal', 'darkcyan', 'dodgerblue', 'navy', 'darkblue', 'mediumblue', 'blue', 'slateblue', 'darkslateblue', 'mediumslateblue', 'mediumpurple', 'rebeccapurple', 'blueviolet', 'indigo', 'darkorchid', 'darkviolet', 'mediumorchid', 'purple', 'darkmagenta', 'fuchsia', 'magenta', 'orchid', 'mediumvioletred', 'deeppink', 'hotpink']\n",
    "markers = [\".\",\",\",\"o\",\"v\",\"^\",\"<\",\">\",\"1\",\"2\",\"3\",\"4\",\"8\",\"s\",\"p\",\"P\",\"*\",\"h\",\"H\",\"+\",\"x\",\"X\",\"D\",\"d\",\"|\",\"_\",0,1,2,3,4,5,6,7,8,9,10,11]\n",
    "linestyle = ['--', '-.', '-']\n",
    "def get_line_arg():\n",
    "    '''\n",
    "    随机产生一种绘图线型\n",
    "    '''\n",
    "    line_arg = {}\n",
    "    line_arg['color'] = random.choice(colors)\n",
    "    # line_arg['marker'] = random.choice(markers)\n",
    "    line_arg['linestyle'] = random.choice(linestyle)\n",
    "    line_arg['linewidth'] = random.randint(1, 4)\n",
    "    # line_arg['markersize'] = random.randint(3, 5)\n",
    "    return line_arg\n"
   ]
  },
  {
   "cell_type": "code",
   "execution_count": null,
   "id": "4209309a-5175-46c1-b465-2bf97f7b868c",
   "metadata": {},
   "outputs": [],
   "source": [
    "metrics = ['test_accuracy', 'test_precision', 'test_recall', 'test_f1-score']"
   ]
  },
  {
   "cell_type": "code",
   "execution_count": null,
   "id": "8bc4ccd8-746b-4cdf-bf95-434dab3340a8",
   "metadata": {},
   "outputs": [],
   "source": [
    "plt.figure(figsize=(16, 8))\n",
    "\n",
    "x = df_test['epoch']\n",
    "for y in metrics:\n",
    "    plt.plot(x, df_test[y], label=y, **get_line_arg())\n",
    "\n",
    "plt.tick_params(labelsize=20)\n",
    "plt.ylim([0, 1])\n",
    "plt.xlabel('epoch', fontsize=20)\n",
    "plt.ylabel('Evaluation indicators', fontsize=20)\n",
    "plt.title('Test set classification evaluation indicators', fontsize=25)\n",
    "plt.savefig('图表/测试集分类评估指标.pdf', dpi=120, bbox_inches='tight')\n",
    "\n",
    "plt.legend(fontsize=20)\n",
    "\n",
    "plt.show()"
   ]
  }
 ],
 "metadata": {
  "kernelspec": {
   "display_name": "Python 3 (ipykernel)",
   "language": "python",
   "name": "python3"
  },
  "language_info": {
   "codemirror_mode": {
    "name": "ipython",
    "version": 3
   },
   "file_extension": ".py",
   "mimetype": "text/x-python",
   "name": "python",
   "nbconvert_exporter": "python",
   "pygments_lexer": "ipython3",
   "version": "3.10.12"
  }
 },
 "nbformat": 4,
 "nbformat_minor": 5
}
